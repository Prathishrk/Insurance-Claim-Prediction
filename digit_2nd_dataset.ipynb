{
  "cells": [
    {
      "cell_type": "code",
      "execution_count": 3,
      "metadata": {
        "colab": {
          "base_uri": "https://localhost:8080/"
        },
        "id": "iGVrBvebcyhx",
        "outputId": "8cd9878e-db7d-4056-8ac6-02d07d6e4e40"
      },
      "outputs": [
        {
          "name": "stdout",
          "output_type": "stream",
          "text": [
            "<class 'pandas.core.frame.DataFrame'>\n",
            "RangeIndex: 1000 entries, 0 to 999\n",
            "Data columns (total 40 columns):\n",
            " #   Column                       Non-Null Count  Dtype  \n",
            "---  ------                       --------------  -----  \n",
            " 0   months_as_customer           1000 non-null   int64  \n",
            " 1   age                          1000 non-null   int64  \n",
            " 2   policy_number                1000 non-null   int64  \n",
            " 3   policy_bind_date             1000 non-null   object \n",
            " 4   policy_state                 1000 non-null   object \n",
            " 5   policy_csl                   1000 non-null   object \n",
            " 6   policy_deductable            1000 non-null   int64  \n",
            " 7   policy_annual_premium        1000 non-null   float64\n",
            " 8   umbrella_limit               1000 non-null   int64  \n",
            " 9   insured_zip                  1000 non-null   int64  \n",
            " 10  insured_sex                  1000 non-null   object \n",
            " 11  insured_education_level      1000 non-null   object \n",
            " 12  insured_occupation           1000 non-null   object \n",
            " 13  insured_hobbies              1000 non-null   object \n",
            " 14  insured_relationship         1000 non-null   object \n",
            " 15  capital-gains                1000 non-null   int64  \n",
            " 16  capital-loss                 1000 non-null   int64  \n",
            " 17  incident_date                1000 non-null   object \n",
            " 18  incident_type                1000 non-null   object \n",
            " 19  collision_type               1000 non-null   object \n",
            " 20  incident_severity            1000 non-null   object \n",
            " 21  authorities_contacted        909 non-null    object \n",
            " 22  incident_state               1000 non-null   object \n",
            " 23  incident_city                1000 non-null   object \n",
            " 24  incident_location            1000 non-null   object \n",
            " 25  incident_hour_of_the_day     1000 non-null   int64  \n",
            " 26  number_of_vehicles_involved  1000 non-null   int64  \n",
            " 27  property_damage              1000 non-null   object \n",
            " 28  bodily_injuries              1000 non-null   int64  \n",
            " 29  witnesses                    1000 non-null   int64  \n",
            " 30  police_report_available      1000 non-null   object \n",
            " 31  total_claim_amount           1000 non-null   int64  \n",
            " 32  injury_claim                 1000 non-null   int64  \n",
            " 33  property_claim               1000 non-null   int64  \n",
            " 34  vehicle_claim                1000 non-null   int64  \n",
            " 35  auto_make                    1000 non-null   object \n",
            " 36  auto_model                   1000 non-null   object \n",
            " 37  auto_year                    1000 non-null   int64  \n",
            " 38  fraud_reported               1000 non-null   object \n",
            " 39  _c39                         0 non-null      float64\n",
            "dtypes: float64(2), int64(17), object(21)\n",
            "memory usage: 312.6+ KB\n",
            "Dataset INFO None\n",
            "Dataset Shape: (1000, 40)\n",
            "Missing Values:\n",
            " months_as_customer                0\n",
            "age                               0\n",
            "policy_number                     0\n",
            "policy_bind_date                  0\n",
            "policy_state                      0\n",
            "policy_csl                        0\n",
            "policy_deductable                 0\n",
            "policy_annual_premium             0\n",
            "umbrella_limit                    0\n",
            "insured_zip                       0\n",
            "insured_sex                       0\n",
            "insured_education_level           0\n",
            "insured_occupation                0\n",
            "insured_hobbies                   0\n",
            "insured_relationship              0\n",
            "capital-gains                     0\n",
            "capital-loss                      0\n",
            "incident_date                     0\n",
            "incident_type                     0\n",
            "collision_type                    0\n",
            "incident_severity                 0\n",
            "authorities_contacted            91\n",
            "incident_state                    0\n",
            "incident_city                     0\n",
            "incident_location                 0\n",
            "incident_hour_of_the_day          0\n",
            "number_of_vehicles_involved       0\n",
            "property_damage                   0\n",
            "bodily_injuries                   0\n",
            "witnesses                         0\n",
            "police_report_available           0\n",
            "total_claim_amount                0\n",
            "injury_claim                      0\n",
            "property_claim                    0\n",
            "vehicle_claim                     0\n",
            "auto_make                         0\n",
            "auto_model                        0\n",
            "auto_year                         0\n",
            "fraud_reported                    0\n",
            "_c39                           1000\n",
            "dtype: int64\n"
          ]
        }
      ],
      "source": [
        "import pandas as pd\n",
        "import numpy as np\n",
        "import matplotlib.pyplot as plt\n",
        "import seaborn as sns\n",
        "from sklearn.model_selection import train_test_split\n",
        "from sklearn.preprocessing import OneHotEncoder, StandardScaler\n",
        "from sklearn.impute import SimpleImputer\n",
        "\n",
        "# Load Data\n",
        "df = pd.read_csv('insurance_claims.csv')\n",
        "\n",
        "# Display basic info\n",
        "print(\"Dataset INFO\", df.info())\n",
        "\n",
        "print(\"Dataset Shape:\", df.shape)\n",
        "print(\"Missing Values:\\n\", df.isnull().sum())\n"
      ]
    },
    {
      "cell_type": "code",
      "execution_count": 4,
      "metadata": {
        "id": "-EYcytnRXtTQ"
      },
      "outputs": [],
      "source": [
        "df = df.drop(columns=['_c39','police_report_available','property_damage','authorities_contacted'])\n"
      ]
    },
    {
      "cell_type": "code",
      "execution_count": 5,
      "metadata": {
        "colab": {
          "base_uri": "https://localhost:8080/"
        },
        "id": "qT0iQWBqaiKw",
        "outputId": "b0d47e3b-2957-4cfa-b350-60cfd4b4d4af"
      },
      "outputs": [
        {
          "name": "stdout",
          "output_type": "stream",
          "text": [
            "                             Mutual Information\n",
            "vehicle_claim                          2.136698\n",
            "property_claim                         2.002194\n",
            "injury_claim                           1.920402\n",
            "incident_type                          0.478646\n",
            "collision_type                         0.461900\n",
            "incident_severity                      0.283548\n",
            "incident_hour_of_the_day               0.154235\n",
            "number_of_vehicles_involved            0.123090\n",
            "policy_number                          0.042885\n",
            "insured_sex                            0.036202\n",
            "capital-gains                          0.023585\n",
            "insured_hobbies                        0.023279\n",
            "age                                    0.022489\n",
            "months_as_customer                     0.021726\n",
            "fraud_reported                         0.020384\n",
            "incident_state                         0.019203\n",
            "auto_year                              0.017222\n",
            "policy_state                           0.017146\n",
            "policy_annual_premium                  0.013659\n",
            "incident_date                          0.010293\n",
            "bodily_injuries                        0.000000\n",
            "auto_model                             0.000000\n",
            "auto_make                              0.000000\n",
            "policy_bind_date                       0.000000\n",
            "policy_csl                             0.000000\n",
            "witnesses                              0.000000\n",
            "insured_relationship                   0.000000\n",
            "capital-loss                           0.000000\n",
            "incident_location                      0.000000\n",
            "incident_city                          0.000000\n",
            "umbrella_limit                         0.000000\n",
            "insured_zip                            0.000000\n",
            "insured_education_level                0.000000\n",
            "insured_occupation                     0.000000\n",
            "policy_deductable                      0.000000\n"
          ]
        }
      ],
      "source": [
        "from sklearn.feature_selection import mutual_info_regression\n",
        "from sklearn.preprocessing import LabelEncoder\n",
        "\n",
        "# Assuming df is your DataFrame\n",
        "\n",
        "# Separate features and target variable\n",
        "X = df.drop('total_claim_amount', axis=1)\n",
        "y = df['total_claim_amount']\n",
        "\n",
        "# Create a LabelEncoder object\n",
        "label_encoder = LabelEncoder()\n",
        "\n",
        "# Iterate through all columns of X\n",
        "for col in X.columns:\n",
        "    # Check if the column contains object (string) values\n",
        "    if X[col].dtype == 'object':\n",
        "        # Fit and transform the column using LabelEncoder\n",
        "        X[col] = label_encoder.fit_transform(X[col].astype(str))  # Convert to str to handle mixed types\n",
        "\n",
        "# Calculate mutual information\n",
        "mutual_info = mutual_info_regression(X, y)\n",
        "\n",
        "# Create a DataFrame with the mutual information values\n",
        "mi_df = pd.DataFrame(mutual_info, index=X.columns, columns=['Mutual Information'])\n",
        "\n",
        "# Sort by mutual information\n",
        "mi_df = mi_df.sort_values(by='Mutual Information', ascending=False)\n",
        "\n",
        "print(mi_df)"
      ]
    },
    {
      "cell_type": "code",
      "execution_count": 6,
      "metadata": {
        "colab": {
          "base_uri": "https://localhost:8080/"
        },
        "id": "KrhOeRYmdU3u",
        "outputId": "957568ff-5f12-40b2-a675-1c776acbb4e0"
      },
      "outputs": [
        {
          "name": "stdout",
          "output_type": "stream",
          "text": [
            "vehicle_claim                  0\n",
            "property_claim                 0\n",
            "injury_claim                   0\n",
            "incident_type                  0\n",
            "collision_type                 0\n",
            "incident_severity              0\n",
            "number_of_vehicles_involved    0\n",
            "dtype: int64\n"
          ]
        }
      ],
      "source": [
        "# Select the relevant features\n",
        "selected_features = [\n",
        "    'vehicle_claim', 'property_claim', 'injury_claim', 'incident_type',\n",
        "    'collision_type', 'incident_severity', 'number_of_vehicles_involved',\n",
        "]\n",
        "\n",
        "# Check for missing values in the selected features\n",
        "missing_values = df[selected_features].isnull().sum()\n",
        "print(missing_values)\n"
      ]
    },
    {
      "cell_type": "code",
      "execution_count": 7,
      "metadata": {
        "colab": {
          "base_uri": "https://localhost:8080/"
        },
        "id": "umOvuzxueGkF",
        "outputId": "36ccd8bd-2839-4733-e135-90c7f9574608"
      },
      "outputs": [
        {
          "name": "stdout",
          "output_type": "stream",
          "text": [
            "Unique values in incident_type: ['Single Vehicle Collision' 'Vehicle Theft' 'Multi-vehicle Collision'\n",
            " 'Parked Car']\n",
            "Unique values in collision_type: ['Side Collision' '?' 'Rear Collision' 'Front Collision']\n",
            "Unique values in incident_severity: ['Major Damage' 'Minor Damage' 'Total Loss' 'Trivial Damage']\n"
          ]
        }
      ],
      "source": [
        "# Check for unique values in categorical columns\n",
        "categorical_columns = ['incident_type', 'collision_type', 'incident_severity']\n",
        "for column in categorical_columns:\n",
        "    print(f\"Unique values in {column}: {df[column].unique()}\")\n"
      ]
    },
    {
      "cell_type": "code",
      "execution_count": 8,
      "metadata": {
        "id": "shbHPooKeoE3"
      },
      "outputs": [],
      "source": [
        "# Replace '?' with 'Unknown' in collision_type\n",
        "df['collision_type'] = df['collision_type'].replace('?', 'Unknown')"
      ]
    },
    {
      "cell_type": "code",
      "execution_count": 9,
      "metadata": {
        "colab": {
          "base_uri": "https://localhost:8080/"
        },
        "id": "XLKxHHA7ewOu",
        "outputId": "943504b5-3346-4c7a-a140-861e642caa56"
      },
      "outputs": [
        {
          "name": "stdout",
          "output_type": "stream",
          "text": [
            "<class 'pandas.core.frame.DataFrame'>\n",
            "RangeIndex: 1000 entries, 0 to 999\n",
            "Data columns (total 42 columns):\n",
            " #   Column                                  Non-Null Count  Dtype  \n",
            "---  ------                                  --------------  -----  \n",
            " 0   months_as_customer                      1000 non-null   int64  \n",
            " 1   age                                     1000 non-null   int64  \n",
            " 2   policy_number                           1000 non-null   int64  \n",
            " 3   policy_bind_date                        1000 non-null   object \n",
            " 4   policy_state                            1000 non-null   object \n",
            " 5   policy_csl                              1000 non-null   object \n",
            " 6   policy_deductable                       1000 non-null   int64  \n",
            " 7   policy_annual_premium                   1000 non-null   float64\n",
            " 8   umbrella_limit                          1000 non-null   int64  \n",
            " 9   insured_zip                             1000 non-null   int64  \n",
            " 10  insured_sex                             1000 non-null   object \n",
            " 11  insured_education_level                 1000 non-null   object \n",
            " 12  insured_occupation                      1000 non-null   object \n",
            " 13  insured_hobbies                         1000 non-null   object \n",
            " 14  insured_relationship                    1000 non-null   object \n",
            " 15  capital-gains                           1000 non-null   int64  \n",
            " 16  capital-loss                            1000 non-null   int64  \n",
            " 17  incident_date                           1000 non-null   object \n",
            " 18  incident_state                          1000 non-null   object \n",
            " 19  incident_city                           1000 non-null   object \n",
            " 20  incident_location                       1000 non-null   object \n",
            " 21  incident_hour_of_the_day                1000 non-null   int64  \n",
            " 22  number_of_vehicles_involved             1000 non-null   int64  \n",
            " 23  bodily_injuries                         1000 non-null   int64  \n",
            " 24  witnesses                               1000 non-null   int64  \n",
            " 25  total_claim_amount                      1000 non-null   int64  \n",
            " 26  injury_claim                            1000 non-null   int64  \n",
            " 27  property_claim                          1000 non-null   int64  \n",
            " 28  vehicle_claim                           1000 non-null   int64  \n",
            " 29  auto_make                               1000 non-null   object \n",
            " 30  auto_model                              1000 non-null   object \n",
            " 31  auto_year                               1000 non-null   int64  \n",
            " 32  fraud_reported                          1000 non-null   object \n",
            " 33  incident_type_Parked Car                1000 non-null   int32  \n",
            " 34  incident_type_Single Vehicle Collision  1000 non-null   int32  \n",
            " 35  incident_type_Vehicle Theft             1000 non-null   int32  \n",
            " 36  collision_type_Rear Collision           1000 non-null   int32  \n",
            " 37  collision_type_Side Collision           1000 non-null   int32  \n",
            " 38  collision_type_Unknown                  1000 non-null   int32  \n",
            " 39  incident_severity_Minor Damage          1000 non-null   int32  \n",
            " 40  incident_severity_Total Loss            1000 non-null   int32  \n",
            " 41  incident_severity_Trivial Damage        1000 non-null   int32  \n",
            "dtypes: float64(1), int32(9), int64(17), object(15)\n",
            "memory usage: 293.1+ KB\n",
            "None\n"
          ]
        }
      ],
      "source": [
        "# One-hot encode incident_type and collision_type\n",
        "df = pd.get_dummies(df, columns=['incident_type', 'collision_type','incident_severity'], drop_first=True)\n",
        "df['incident_type_Parked Car'] = df['incident_type_Parked Car'].astype(int)\n",
        "df['incident_type_Single Vehicle Collision'] = df['incident_type_Single Vehicle Collision'].astype(int)\n",
        "df['incident_type_Vehicle Theft'] = df['incident_type_Vehicle Theft'].astype(int)\n",
        "df['collision_type_Rear Collision'] = df['collision_type_Rear Collision'].astype(int)\n",
        "df['collision_type_Side Collision'] = df['collision_type_Side Collision'].astype(int)\n",
        "df['collision_type_Unknown'] = df['collision_type_Unknown'].astype(int)\n",
        "df['incident_severity_Minor Damage'] = df['incident_severity_Minor Damage'].astype(int)\n",
        "df['incident_severity_Total Loss'] = df['incident_severity_Total Loss'].astype(int)\n",
        "df['incident_severity_Trivial Damage'] = df['incident_severity_Trivial Damage'].astype(int)\n",
        "# Check the result\n",
        "print(df.info())\n"
      ]
    },
    {
      "cell_type": "code",
      "execution_count": 10,
      "metadata": {
        "colab": {
          "base_uri": "https://localhost:8080/"
        },
        "id": "daAodKorh3rF",
        "outputId": "9af534b7-ad9c-4b9e-b49f-7c15660eecfa"
      },
      "outputs": [
        {
          "name": "stdout",
          "output_type": "stream",
          "text": [
            "   vehicle_claim  property_claim  injury_claim  number_of_vehicles_involved  \\\n",
            "0       0.749653        1.165505     -0.189283                    -0.823865   \n",
            "1      -1.823346       -1.372696     -1.363822                    -0.823865   \n",
            "2      -0.785565       -0.736072      0.054644                     1.140056   \n",
            "3       0.677607       -0.219722     -0.224130                    -0.823865   \n",
            "4      -1.768252       -1.399654     -1.257232                    -0.823865   \n",
            "\n",
            "   incident_hour_of_the_day  \n",
            "0                 -0.956261  \n",
            "1                 -0.524475  \n",
            "2                 -0.668404  \n",
            "3                 -0.956261  \n",
            "4                  1.202666  \n",
            "<class 'pandas.core.frame.DataFrame'>\n",
            "RangeIndex: 1000 entries, 0 to 999\n",
            "Data columns (total 42 columns):\n",
            " #   Column                                  Non-Null Count  Dtype  \n",
            "---  ------                                  --------------  -----  \n",
            " 0   months_as_customer                      1000 non-null   int64  \n",
            " 1   age                                     1000 non-null   int64  \n",
            " 2   policy_number                           1000 non-null   int64  \n",
            " 3   policy_bind_date                        1000 non-null   object \n",
            " 4   policy_state                            1000 non-null   object \n",
            " 5   policy_csl                              1000 non-null   object \n",
            " 6   policy_deductable                       1000 non-null   int64  \n",
            " 7   policy_annual_premium                   1000 non-null   float64\n",
            " 8   umbrella_limit                          1000 non-null   int64  \n",
            " 9   insured_zip                             1000 non-null   int64  \n",
            " 10  insured_sex                             1000 non-null   object \n",
            " 11  insured_education_level                 1000 non-null   object \n",
            " 12  insured_occupation                      1000 non-null   object \n",
            " 13  insured_hobbies                         1000 non-null   object \n",
            " 14  insured_relationship                    1000 non-null   object \n",
            " 15  capital-gains                           1000 non-null   int64  \n",
            " 16  capital-loss                            1000 non-null   int64  \n",
            " 17  incident_date                           1000 non-null   object \n",
            " 18  incident_state                          1000 non-null   object \n",
            " 19  incident_city                           1000 non-null   object \n",
            " 20  incident_location                       1000 non-null   object \n",
            " 21  incident_hour_of_the_day                1000 non-null   float64\n",
            " 22  number_of_vehicles_involved             1000 non-null   float64\n",
            " 23  bodily_injuries                         1000 non-null   int64  \n",
            " 24  witnesses                               1000 non-null   int64  \n",
            " 25  total_claim_amount                      1000 non-null   int64  \n",
            " 26  injury_claim                            1000 non-null   float64\n",
            " 27  property_claim                          1000 non-null   float64\n",
            " 28  vehicle_claim                           1000 non-null   float64\n",
            " 29  auto_make                               1000 non-null   object \n",
            " 30  auto_model                              1000 non-null   object \n",
            " 31  auto_year                               1000 non-null   int64  \n",
            " 32  fraud_reported                          1000 non-null   object \n",
            " 33  incident_type_Parked Car                1000 non-null   int32  \n",
            " 34  incident_type_Single Vehicle Collision  1000 non-null   int32  \n",
            " 35  incident_type_Vehicle Theft             1000 non-null   int32  \n",
            " 36  collision_type_Rear Collision           1000 non-null   int32  \n",
            " 37  collision_type_Side Collision           1000 non-null   int32  \n",
            " 38  collision_type_Unknown                  1000 non-null   int32  \n",
            " 39  incident_severity_Minor Damage          1000 non-null   int32  \n",
            " 40  incident_severity_Total Loss            1000 non-null   int32  \n",
            " 41  incident_severity_Trivial Damage        1000 non-null   int32  \n",
            "dtypes: float64(6), int32(9), int64(12), object(15)\n",
            "memory usage: 293.1+ KB\n",
            "None\n"
          ]
        }
      ],
      "source": [
        "from sklearn.preprocessing import StandardScaler\n",
        "\n",
        "# List of numerical features to be scaled\n",
        "numerical_features = ['vehicle_claim', 'property_claim', 'injury_claim', 'number_of_vehicles_involved','incident_hour_of_the_day']\n",
        "\n",
        "# Initialize the StandardScaler\n",
        "scaler = StandardScaler()\n",
        "\n",
        "# Fit and transform the numerical features (replace original columns)\n",
        "df[numerical_features] = scaler.fit_transform(df[numerical_features])\n",
        "\n",
        "# Print a sample of the scaled numerical features\n",
        "print(df[numerical_features].head())\n",
        "\n",
        "# Check the first few rows to confirm changes\n",
        "print(df.info())\n"
      ]
    },
    {
      "cell_type": "code",
      "execution_count": 11,
      "metadata": {
        "colab": {
          "base_uri": "https://localhost:8080/"
        },
        "id": "ys-_lSkbCjGu",
        "outputId": "fd1d3a53-9d5b-4f2c-9844-c75193705ba1"
      },
      "outputs": [
        {
          "name": "stdout",
          "output_type": "stream",
          "text": [
            "Training set shape: (800, 14), Testing set shape: (200, 14)\n"
          ]
        }
      ],
      "source": [
        "import pandas as pd\n",
        "from sklearn.model_selection import train_test_split\n",
        "\n",
        "# Define the final features\n",
        "final_features = [\n",
        "    'vehicle_claim', 'property_claim', 'injury_claim',\n",
        "    'incident_type_Parked Car', 'incident_type_Single Vehicle Collision', 'incident_type_Vehicle Theft',\n",
        "    'collision_type_Rear Collision', 'collision_type_Side Collision', 'collision_type_Unknown',\n",
        "    'incident_severity_Minor Damage', 'incident_severity_Total Loss', 'incident_severity_Trivial Damage',\n",
        "    'incident_hour_of_the_day', 'number_of_vehicles_involved'\n",
        "]\n",
        "\n",
        "# Target variable\n",
        "target = 'total_claim_amount'\n",
        "\n",
        "# Extract the final dataset\n",
        "X = df[final_features]\n",
        "y = df[target]\n",
        "\n",
        "# Split the dataset into train and test sets (80% train, 20% test)\n",
        "X_train, X_test, y_train, y_test = train_test_split(X, y, test_size=0.2, random_state=42)\n",
        "\n",
        "# Print the shapes of the datasets\n",
        "print(f\"Training set shape: {X_train.shape}, Testing set shape: {X_test.shape}\")\n"
      ]
    },
    {
      "cell_type": "markdown",
      "metadata": {
        "id": "J8EcxMQPK2wb"
      },
      "source": [
        "**now checking class balance in target variable**"
      ]
    },
    {
      "cell_type": "code",
      "execution_count": 12,
      "metadata": {
        "colab": {
          "base_uri": "https://localhost:8080/",
          "height": 472
        },
        "id": "TUF71UW9CqHl",
        "outputId": "600a3a88-eb2f-45fb-ba43-fb2a18151b0e"
      },
      "outputs": [
        {
          "data": {
            "image/png": "[encoded data removed]",
            "text/plain": [
              "<Figure size 640x480 with 1 Axes>"
            ]
          },
          "metadata": {},
          "output_type": "display_data"
        }
      ],
      "source": [
        "import matplotlib.pyplot as plt\n",
        "import seaborn as sns\n",
        "\n",
        "sns.histplot(y_train, bins=30, kde=True)\n",
        "plt.title(\"Distribution of Total Claim Amount in Training Data\")\n",
        "plt.show()\n"
      ]
    },
    {
      "cell_type": "markdown",
      "metadata": {
        "id": "SRq9H6HiK-iO"
      },
      "source": [
        "**Applying log transformation to make it normalize**"
      ]
    },
    {
      "cell_type": "code",
      "execution_count": 13,
      "metadata": {
        "colab": {
          "base_uri": "https://localhost:8080/",
          "height": 487
        },
        "id": "-Czww31qDcZD",
        "outputId": "d5638564-6ccc-4f26-8a5b-e3b9b6fc9352"
      },
      "outputs": [
        {
          "data": {
            "image/png": "[encoded data removed]",
            "text/plain": [
              "<Figure size 800x500 with 1 Axes>"
            ]
          },
          "metadata": {},
          "output_type": "display_data"
        }
      ],
      "source": [
        "import numpy as np\n",
        "import matplotlib.pyplot as plt\n",
        "import seaborn as sns\n",
        "\n",
        "# Apply log transformation\n",
        "df[\"log_claim_amount\"] = np.log1p(df[\"total_claim_amount\"])\n",
        "\n",
        "# Plot the new distribution\n",
        "plt.figure(figsize=(8,5))\n",
        "sns.histplot(df[\"log_claim_amount\"], bins=30, kde=True, color='blue')\n",
        "plt.title(\"Log-Transformed Total Claim Amount Distribution\")\n",
        "plt.xlabel(\"log_claim_amount\")\n",
        "plt.ylabel(\"Count\")\n",
        "plt.show()\n"
      ]
    },
    {
      "cell_type": "markdown",
      "metadata": {
        "id": "udPgDo4iLxF_"
      },
      "source": [
        "**LOG transformation didn't work and using K-means to make clusters of the target variable**"
      ]
    },
    {
      "cell_type": "code",
      "execution_count": 14,
      "metadata": {
        "colab": {
          "base_uri": "https://localhost:8080/",
          "height": 472
        },
        "id": "ovcXTWK-EOt8",
        "outputId": "34b68bbc-9351-4886-854e-0887f300f836"
      },
      "outputs": [
        {
          "data": {
            "image/png": "[encoded data removed]",
            "text/plain": [
              "<Figure size 640x480 with 1 Axes>"
            ]
          },
          "metadata": {},
          "output_type": "display_data"
        }
      ],
      "source": [
        "from sklearn.cluster import KMeans\n",
        "import seaborn as sns\n",
        "import matplotlib.pyplot as plt\n",
        "\n",
        "# Ensure fresh start\n",
        "df = df.copy()  # If working in Jupyter, prevent overwriting issues\n",
        "\n",
        "# Use the log-transformed claim amount for clustering\n",
        "X = df[['log_claim_amount']].values\n",
        "\n",
        "# Force K-Means to use exactly 2 clusters\n",
        "kmeans = KMeans(n_clusters=2, random_state=42, n_init=10)\n",
        "df['claim_cluster'] = kmeans.fit_predict(X)\n",
        "\n",
        "# Plot clusters\n",
        "sns.histplot(df, x=\"log_claim_amount\", hue=\"claim_cluster\", kde=True, bins=30, palette=\"coolwarm\")\n",
        "plt.title(\"Clustered Log-Transformed Total Claim Amount Distribution\")\n",
        "plt.show()\n"
      ]
    },
    {
      "cell_type": "markdown",
      "metadata": {
        "id": "ndsCGZ90GZNE"
      },
      "source": [
        "*   using elbow method to determine no of clusters\n",
        "*   the result is 2\n",
        "\n"
      ]
    },
    {
      "cell_type": "code",
      "execution_count": 15,
      "metadata": {
        "colab": {
          "base_uri": "https://localhost:8080/",
          "height": 487
        },
        "id": "AsLNeQ4LGEyK",
        "outputId": "8d5460b8-32c3-45c8-eb07-d0ab2e19816d"
      },
      "outputs": [
        {
          "data": {
            "image/png": "[encoded data removed]",
            "text/plain": [
              "<Figure size 800x500 with 1 Axes>"
            ]
          },
          "metadata": {},
          "output_type": "display_data"
        }
      ],
      "source": [
        "import matplotlib.pyplot as plt\n",
        "from sklearn.cluster import KMeans\n",
        "\n",
        "X = df[['log_claim_amount']].values\n",
        "\n",
        "# Try different numbers of clusters\n",
        "inertia = []\n",
        "K_range = range(1, 5)  # Try from 1 to 9 clusters\n",
        "\n",
        "for k in K_range:\n",
        "    kmeans = KMeans(n_clusters=k, random_state=42)\n",
        "    kmeans.fit(X)\n",
        "    inertia.append(kmeans.inertia_)  # Inertia (within-cluster variance)\n",
        "\n",
        "# Plot the Elbow Method graph\n",
        "plt.figure(figsize=(8, 5))\n",
        "plt.plot(K_range, inertia, marker='o', linestyle='-', color='b')\n",
        "plt.xlabel(\"Number of Clusters (K)\")\n",
        "plt.ylabel(\"Inertia (Sum of Squared Distances)\")\n",
        "plt.title(\"Elbow Method for Optimal Clusters\")\n",
        "plt.show()\n"
      ]
    },
    {
      "cell_type": "code",
      "execution_count": 16,
      "metadata": {
        "colab": {
          "base_uri": "https://localhost:8080/",
          "height": 143
        },
        "id": "Yq6zfvxxFO2O",
        "outputId": "75dcdbee-f2b9-4604-f465-7ad6c287dfb3"
      },
      "outputs": [
        {
          "data": {
            "text/html": [
              "<div>\n",
              "<style scoped>\n",
              "    .dataframe tbody tr th:only-of-type {\n",
              "        vertical-align: middle;\n",
              "    }\n",
              "\n",
              "    .dataframe tbody tr th {\n",
              "        vertical-align: top;\n",
              "    }\n",
              "\n",
              "    .dataframe thead th {\n",
              "        text-align: right;\n",
              "    }\n",
              "</style>\n",
              "<table border=\"1\" class=\"dataframe\">\n",
              "  <thead>\n",
              "    <tr style=\"text-align: right;\">\n",
              "      <th></th>\n",
              "      <th>count</th>\n",
              "      <th>mean</th>\n",
              "      <th>std</th>\n",
              "      <th>min</th>\n",
              "      <th>25%</th>\n",
              "      <th>50%</th>\n",
              "      <th>75%</th>\n",
              "      <th>max</th>\n",
              "    </tr>\n",
              "    <tr>\n",
              "      <th>claim_cluster</th>\n",
              "      <th></th>\n",
              "      <th></th>\n",
              "      <th></th>\n",
              "      <th></th>\n",
              "      <th></th>\n",
              "      <th></th>\n",
              "      <th></th>\n",
              "      <th></th>\n",
              "    </tr>\n",
              "  </thead>\n",
              "  <tbody>\n",
              "    <tr>\n",
              "      <th>0</th>\n",
              "      <td>822.0</td>\n",
              "      <td>11.016602</td>\n",
              "      <td>0.270241</td>\n",
              "      <td>9.798183</td>\n",
              "      <td>10.865009</td>\n",
              "      <td>11.039251</td>\n",
              "      <td>11.213926</td>\n",
              "      <td>11.652000</td>\n",
              "    </tr>\n",
              "    <tr>\n",
              "      <th>1</th>\n",
              "      <td>178.0</td>\n",
              "      <td>8.529209</td>\n",
              "      <td>0.445301</td>\n",
              "      <td>4.615121</td>\n",
              "      <td>8.364857</td>\n",
              "      <td>8.611775</td>\n",
              "      <td>8.786602</td>\n",
              "      <td>9.286468</td>\n",
              "    </tr>\n",
              "  </tbody>\n",
              "</table>\n",
              "</div>"
            ],
            "text/plain": [
              "               count       mean       std       min        25%        50%  \\\n",
              "claim_cluster                                                               \n",
              "0              822.0  11.016602  0.270241  9.798183  10.865009  11.039251   \n",
              "1              178.0   8.529209  0.445301  4.615121   8.364857   8.611775   \n",
              "\n",
              "                     75%        max  \n",
              "claim_cluster                        \n",
              "0              11.213926  11.652000  \n",
              "1               8.786602   9.286468  "
            ]
          },
          "execution_count": 16,
          "metadata": {},
          "output_type": "execute_result"
        }
      ],
      "source": [
        "df.groupby(\"claim_cluster\")[\"log_claim_amount\"].describe()"
      ]
    },
    {
      "cell_type": "code",
      "execution_count": 17,
      "metadata": {
        "colab": {
          "base_uri": "https://localhost:8080/"
        },
        "id": "P535EzmEJnca",
        "outputId": "33569cf2-3e06-41e7-de12-deb4e6a77f7b"
      },
      "outputs": [
        {
          "name": "stdout",
          "output_type": "stream",
          "text": [
            "   months_as_customer  age  policy_number policy_bind_date policy_state  \\\n",
            "0                 328   48         521585       2014-10-17           OH   \n",
            "1                 228   42         342868       2006-06-27           IN   \n",
            "2                 134   29         687698       2000-09-06           OH   \n",
            "3                 256   41         227811       1990-05-25           IL   \n",
            "4                 228   44         367455       2014-06-06           IL   \n",
            "\n",
            "  policy_csl  policy_deductable  policy_annual_premium  umbrella_limit  \\\n",
            "0    250/500               1000                1406.91               0   \n",
            "1    250/500               2000                1197.22         5000000   \n",
            "2    100/300               2000                1413.14         5000000   \n",
            "3    250/500               2000                1415.74         6000000   \n",
            "4   500/1000               1000                1583.91         6000000   \n",
            "\n",
            "   insured_zip  ... incident_type_Single Vehicle Collision  \\\n",
            "0       466132  ...                                      1   \n",
            "1       468176  ...                                      0   \n",
            "2       430632  ...                                      0   \n",
            "3       608117  ...                                      1   \n",
            "4       610706  ...                                      0   \n",
            "\n",
            "  incident_type_Vehicle Theft collision_type_Rear Collision  \\\n",
            "0                           0                             0   \n",
            "1                           1                             0   \n",
            "2                           0                             1   \n",
            "3                           0                             0   \n",
            "4                           1                             0   \n",
            "\n",
            "  collision_type_Side Collision collision_type_Unknown  \\\n",
            "0                             1                      0   \n",
            "1                             0                      1   \n",
            "2                             0                      0   \n",
            "3                             0                      0   \n",
            "4                             0                      1   \n",
            "\n",
            "   incident_severity_Minor Damage  incident_severity_Total Loss  \\\n",
            "0                               0                             0   \n",
            "1                               1                             0   \n",
            "2                               1                             0   \n",
            "3                               0                             0   \n",
            "4                               1                             0   \n",
            "\n",
            "  incident_severity_Trivial Damage log_claim_amount claim_cluster  \n",
            "0                                0        11.179004             0  \n",
            "1                                0         8.531293             1  \n",
            "2                                0        10.453082             0  \n",
            "3                                0        11.057235             0  \n",
            "4                                0         8.779711             1  \n",
            "\n",
            "[5 rows x 44 columns]\n"
          ]
        }
      ],
      "source": [
        "print(df.head())"
      ]
    },
    {
      "cell_type": "code",
      "execution_count": null,
      "metadata": {
        "colab": {
          "base_uri": "https://localhost:8080/"
        },
        "id": "hV7LozuWQMRQ",
        "outputId": "c070f9fd-c7ab-4690-b33f-233b225cce89"
      },
      "outputs": [
        {
          "name": "stdout",
          "output_type": "stream",
          "text": [
            "Index(['vehicle_claim', 'property_claim', 'injury_claim',\n",
            "       'incident_hour_of_the_day', 'number_of_vehicles_involved',\n",
            "       'log_claim_amount', 'claim_cluster'],\n",
            "      dtype='object')\n",
            "<class 'pandas.core.frame.DataFrame'>\n",
            "RangeIndex: 1000 entries, 0 to 999\n",
            "Data columns (total 7 columns):\n",
            " #   Column                       Non-Null Count  Dtype  \n",
            "---  ------                       --------------  -----  \n",
            " 0   vehicle_claim                1000 non-null   float64\n",
            " 1   property_claim               1000 non-null   float64\n",
            " 2   injury_claim                 1000 non-null   float64\n",
            " 3   incident_hour_of_the_day     1000 non-null   float64\n",
            " 4   number_of_vehicles_involved  1000 non-null   float64\n",
            " 5   log_claim_amount             1000 non-null   float64\n",
            " 6   claim_cluster                1000 non-null   int32  \n",
            "dtypes: float64(6), int32(1)\n",
            "memory usage: 50.9 KB\n",
            "None\n"
          ]
        }
      ],
      "source": [
        "import pandas as pd\n",
        "\n",
        "# Assuming your DataFrame is named 'df'\n",
        "dffinal_features = [\n",
        "    'vehicle_claim', 'property_claim', 'injury_claim',\n",
        "    'incident_hour_of_the_day', 'number_of_vehicles_involved','log_claim_amount','claim_cluster']\n",
        "\n",
        "# Create a new DataFrame containing only the desired features\n",
        "df = df[dffinal_features]\n",
        "\n",
        "# If you want to replace the original DataFrame with the new one:\n",
        "# df = df[dffinal_features]\n",
        "\n",
        "# To verify the columns in the new DataFrame:\n",
        "print(df.columns)\n",
        "print(df.info())"
      ]
    },
    {
      "cell_type": "code",
      "execution_count": 19,
      "metadata": {
        "colab": {
          "base_uri": "https://localhost:8080/"
        },
        "id": "2yQ6eY_1M6_k",
        "outputId": "d95e9048-5561-450f-bd3f-bbc5f5f1347f"
      },
      "outputs": [
        {
          "name": "stdout",
          "output_type": "stream",
          "text": [
            "(822, 7)\n",
            "(178, 7)\n",
            "   vehicle_claim  property_claim  injury_claim  incident_hour_of_the_day  \\\n",
            "0       0.749653        1.165505     -0.189283                 -0.956261   \n",
            "2      -0.785565       -0.736072      0.054644                 -0.668404   \n",
            "3       0.677607       -0.219722     -0.224130                 -0.956261   \n",
            "5       0.707273       -0.205206     -0.209781                  1.058738   \n",
            "6       0.642113       -0.051753      2.873127                 -1.675903   \n",
            "\n",
            "   number_of_vehicles_involved  log_claim_amount  claim_cluster  \n",
            "0                    -0.823865         11.179004              0  \n",
            "2                     1.140056         10.453082              0  \n",
            "3                    -0.823865         11.057235              0  \n",
            "5                     1.140056         11.068215              0  \n",
            "6                     1.140056         11.272776              0  \n",
            "    vehicle_claim  property_claim  injury_claim  incident_hour_of_the_day  \\\n",
            "1       -1.823346       -1.372696     -1.363822                 -0.524475   \n",
            "4       -1.768252       -1.399654     -1.257232                  1.202666   \n",
            "13      -1.742294       -1.302190     -1.294129                 -0.956261   \n",
            "26      -1.661772       -1.364401     -1.187539                 -1.100189   \n",
            "27      -1.788912       -1.426612     -1.310527                 -0.956261   \n",
            "\n",
            "    number_of_vehicles_involved  log_claim_amount  claim_cluster  \n",
            "1                     -0.823865          8.531293              1  \n",
            "4                     -0.823865          8.779711              1  \n",
            "13                    -0.823865          8.893023              1  \n",
            "26                    -0.823865          9.107310              1  \n",
            "27                    -0.823865          8.651899              1  \n"
          ]
        }
      ],
      "source": [
        "cluster_0 = df[df[\"claim_cluster\"] == 0]  # First cluster\n",
        "cluster_1 = df[df[\"claim_cluster\"] == 1]  # Second cluster\n",
        "print(cluster_0.shape)\n",
        "print(cluster_1.shape)\n",
        "print(cluster_0.head())\n",
        "print(cluster_1.head())"
      ]
    },
    {
      "cell_type": "code",
      "execution_count": 22,
      "metadata": {
        "colab": {
          "base_uri": "https://localhost:8080/"
        },
        "id": "DXxmbeJTSy9N",
        "outputId": "2d10038d-f310-48e3-bf5f-fac24d4433e9"
      },
      "outputs": [
        {
          "name": "stdout",
          "output_type": "stream",
          "text": [
            "\n",
            "📊 Random Forest (Cluster 0) Evaluation Metrics:\n",
            "✅ MSE: 0.0007\n",
            "✅ RMSE: 0.0273\n",
            "✅ R² Score: 0.9888\n",
            "\n",
            "📊 XGBoost (Cluster 0) Evaluation Metrics:\n",
            "✅ MSE: 0.0006\n",
            "✅ RMSE: 0.0251\n",
            "✅ R² Score: 0.9905\n",
            "\n",
            "📊 Random Forest (Cluster 1) Evaluation Metrics:\n",
            "✅ MSE: 0.0018\n",
            "✅ RMSE: 0.0424\n",
            "✅ R² Score: 0.9802\n",
            "\n",
            "📊 XGBoost (Cluster 1) Evaluation Metrics:\n",
            "✅ MSE: 0.0017\n",
            "✅ RMSE: 0.0415\n",
            "✅ R² Score: 0.9811\n",
            "\n",
            "📌 Cluster 0 - Actual vs Predicted:\n",
            "        Actual    RF_Pred   XGB_Pred\n",
            "745  11.305175  11.270333  11.276616\n",
            "221  10.243560  10.245145  10.264246\n",
            "80   10.835671  10.843652  10.871030\n",
            "214  11.306651  11.304914  11.295553\n",
            "340  11.079076  11.074095  11.087190\n",
            "\n",
            "📌 Cluster 1 - Actual vs Predicted:\n",
            "       Actual   RF_Pred  XGB_Pred\n",
            "98   8.594339  8.546958  8.565557\n",
            "211  8.865170  8.837728  8.799906\n",
            "799  8.284252  8.243404  8.264521\n",
            "160  8.725994  8.624970  8.646326\n",
            "364  8.627123  8.685108  8.707163\n"
          ]
        }
      ],
      "source": [
        "import pandas as pd\n",
        "import numpy as np\n",
        "from sklearn.ensemble import RandomForestRegressor\n",
        "from xgboost import XGBRegressor\n",
        "from sklearn.model_selection import train_test_split\n",
        "from sklearn.metrics import mean_squared_error, r2_score\n",
        "\n",
        "# Assuming 'cluster_0' and 'cluster_1' contain the respective cluster data\n",
        "features = [col for col in cluster_0.columns if col != \"log_claim_amount\"]  # Exclude target variable\n",
        "\n",
        "# Split Cluster 0\n",
        "X0_train, X0_test, y0_train, y0_test = train_test_split(cluster_0[features], cluster_0[\"log_claim_amount\"], test_size=0.2, random_state=42)\n",
        "\n",
        "# Split Cluster 1\n",
        "X1_train, X1_test, y1_train, y1_test = train_test_split(cluster_1[features], cluster_1[\"log_claim_amount\"], test_size=0.2, random_state=42)\n",
        "\n",
        "# Train Random Forest on Cluster 0\n",
        "model_rf_0 = RandomForestRegressor(n_estimators=100, criterion='absolute_error', random_state=42)\n",
        "model_rf_0.fit(X0_train, y0_train)\n",
        "y0_pred_rf = model_rf_0.predict(X0_test)\n",
        "\n",
        "# Train XGBoost on Cluster 0\n",
        "model_xgb_0 = XGBRegressor(n_estimators=100, learning_rate=0.05, objective='reg:squarederror', random_state=42)\n",
        "model_xgb_0.fit(X0_train, y0_train)\n",
        "y0_pred_xgb = model_xgb_0.predict(X0_test)\n",
        "\n",
        "# Train Random Forest on Cluster 1\n",
        "model_rf_1 = RandomForestRegressor(n_estimators=100, criterion='absolute_error', random_state=42)\n",
        "model_rf_1.fit(X1_train, y1_train)\n",
        "y1_pred_rf = model_rf_1.predict(X1_test)\n",
        "\n",
        "# Train XGBoost on Cluster 1\n",
        "model_xgb_1 = XGBRegressor(n_estimators=100, objective='reg:squarederror', learning_rate=0.05, random_state=42)\n",
        "model_xgb_1.fit(X1_train, y1_train)\n",
        "y1_pred_xgb = model_xgb_1.predict(X1_test)\n",
        "\n",
        "# Function to Calculate Metrics\n",
        "def evaluate_model(y_test, y_pred, model_name):\n",
        "    mse = mean_squared_error(y_test, y_pred)\n",
        "    rmse = np.sqrt(mse)\n",
        "    r2 = r2_score(y_test, y_pred)\n",
        "    print(f\"\\n📊 {model_name} Evaluation Metrics:\")\n",
        "    print(f\"✅ MSE: {mse:.4f}\")\n",
        "    print(f\"✅ RMSE: {rmse:.4f}\")\n",
        "    print(f\"✅ R² Score: {r2:.4f}\")\n",
        "\n",
        "# Evaluate Models\n",
        "evaluate_model(y0_test, y0_pred_rf, \"Random Forest (Cluster 0)\")\n",
        "evaluate_model(y0_test, y0_pred_xgb, \"XGBoost (Cluster 0)\")\n",
        "evaluate_model(y1_test, y1_pred_rf, \"Random Forest (Cluster 1)\")\n",
        "evaluate_model(y1_test, y1_pred_xgb, \"XGBoost (Cluster 1)\")\n",
        "\n",
        "# Create DataFrame for Actual vs Predicted Values\n",
        "df_results_0 = pd.DataFrame({'Actual': y0_test, 'RF_Pred': y0_pred_rf, 'XGB_Pred': y0_pred_xgb})\n",
        "df_results_1 = pd.DataFrame({'Actual': y1_test, 'RF_Pred': y1_pred_rf, 'XGB_Pred': y1_pred_xgb})\n",
        "\n",
        "# Display Few Results\n",
        "print(\"\\n📌 Cluster 0 - Actual vs Predicted:\")\n",
        "print(df_results_0.head())\n",
        "\n",
        "print(\"\\n📌 Cluster 1 - Actual vs Predicted:\")\n",
        "print(df_results_1.head())\n"
      ]
    },
    {
      "cell_type": "code",
      "execution_count": 23,
      "metadata": {},
      "outputs": [
        {
          "data": {
            "text/plain": [
              "['model_xgb_1.pkl']"
            ]
          },
          "execution_count": 23,
          "metadata": {},
          "output_type": "execute_result"
        }
      ],
      "source": [
        "import joblib\n",
        "\n",
        "# Save the models\n",
        "joblib.dump(model_xgb_0, \"model_xgb_0.pkl\")\n",
        "joblib.dump(model_xgb_1, \"model_xgb_1.pkl\")\n"
      ]
    }
  ],
  "metadata": {
    "colab": {
      "provenance": []
    },
    "kernelspec": {
      "display_name": "Python 3",
      "language": "python",
      "name": "python3"
    },
    "language_info": {
      "codemirror_mode": {
        "name": "ipython",
        "version": 3
      },
      "file_extension": ".py",
      "mimetype": "text/x-python",
      "name": "python",
      "nbconvert_exporter": "python",
      "pygments_lexer": "ipython3",
      "version": "3.10.0"
    }
  },
  "nbformat": 4,
  "nbformat_minor": 0
}
